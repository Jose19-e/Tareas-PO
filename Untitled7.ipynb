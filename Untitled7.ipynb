{
  "nbformat": 4,
  "nbformat_minor": 0,
  "metadata": {
    "colab": {
      "name": "Untitled7.ipynb",
      "provenance": [],
      "authorship_tag": "ABX9TyPdTGm6kXH19Wy8jzjqO2qD",
      "include_colab_link": true
    },
    "kernelspec": {
      "name": "python3",
      "display_name": "Python 3"
    },
    "language_info": {
      "name": "python"
    }
  },
  "cells": [
    {
      "cell_type": "markdown",
      "metadata": {
        "id": "view-in-github",
        "colab_type": "text"
      },
      "source": [
        "<a href=\"https://colab.research.google.com/github/Jose19-e/Tareas-PO/blob/master/Untitled7.ipynb\" target=\"_parent\"><img src=\"https://colab.research.google.com/assets/colab-badge.svg\" alt=\"Open In Colab\"/></a>"
      ]
    },
    {
      "cell_type": "code",
      "metadata": {
        "colab": {
          "base_uri": "https://localhost:8080/"
        },
        "id": "9pvvt7913HLv",
        "outputId": "40ccbe5d-1dde-4a11-af71-a522c74d9125"
      },
      "source": [
        "class Array2D():\n",
        "  def __init__(self, ren, col):\n",
        "    self.__renglones = ren\n",
        "    self.__columnas = col\n",
        "    self.__data = [[0 for x in range (col)]for x in range (ren) ]\n",
        "\n",
        "  def to_string(self): \n",
        "    for i in range (self.__renglones):\n",
        "      print(self.__data[i])\n",
        "\n",
        "  def Clear(self,dato):\n",
        "    for i in range(self.__renglones):\n",
        "      for j in range(self.__columnas):\n",
        "        self.__data[i][j] = dato\n",
        "\n",
        "  def get_row_size(self):\n",
        "    return (self.__renglones)\n",
        "\n",
        "  def get_col_size(self):\n",
        "    return (self.__columnas)\n",
        "\n",
        "  def set_item(self,ren,col,dato):\n",
        "    self.__data[ren][col] = dato\n",
        "\n",
        "  def get_item(self,ren,col):\n",
        "    print(self.__data[ren][col])\n",
        "\n",
        "array = Array2D(3,4)\n",
        "array.Clear(2)\n",
        "array.to_string()\n",
        "print(\"____________________ \\n\")\n",
        "array.set_item(0,3,\"Aqui ando\")\n",
        "array.to_string()\n",
        "array.get_item(0,3)\n"
      ],
      "execution_count": 51,
      "outputs": [
        {
          "output_type": "stream",
          "name": "stdout",
          "text": [
            "[2, 2, 2, 2]\n",
            "[2, 2, 2, 2]\n",
            "[2, 2, 2, 2]\n",
            "____________________ \n",
            "\n",
            "[2, 2, 2, 'Aqui ando']\n",
            "[2, 2, 2, 2]\n",
            "[2, 2, 2, 2]\n",
            "Aqui ando\n"
          ]
        }
      ]
    }
  ]
}