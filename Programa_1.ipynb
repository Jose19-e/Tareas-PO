{
  "nbformat": 4,
  "nbformat_minor": 0,
  "metadata": {
    "colab": {
      "name": "Programa 1",
      "provenance": [],
      "authorship_tag": "ABX9TyNmoJeZH1gkSycDPxVBjOXL",
      "include_colab_link": true
    },
    "kernelspec": {
      "name": "python3",
      "display_name": "Python 3"
    },
    "language_info": {
      "name": "python"
    }
  },
  "cells": [
    {
      "cell_type": "markdown",
      "metadata": {
        "id": "view-in-github",
        "colab_type": "text"
      },
      "source": [
        "<a href=\"https://colab.research.google.com/github/Jose19-e/Tareas-PO/blob/master/Programa_1.ipynb\" target=\"_parent\"><img src=\"https://colab.research.google.com/assets/colab-badge.svg\" alt=\"Open In Colab\"/></a>"
      ]
    },
    {
      "cell_type": "markdown",
      "metadata": {
        "id": "eqN4GCRBNPMU"
      },
      "source": [
        "- Lenguaje de Programación Phyton"
      ]
    },
    {
      "cell_type": "code",
      "metadata": {
        "colab": {
          "base_uri": "https://localhost:8080/"
        },
        "id": "OWvGBAnZg2wn",
        "outputId": "2ca9b781-24e5-4e24-87cf-1aa1fa611770"
      },
      "source": [
        "numero = 1\n",
        "Cod = int (input(\"Digíte el código del país: \"))\n",
        "n = int (input(\"¿Cuántos números telefónicos desea agregar?: \"))\n",
        "lista = []\n",
        "while (numero <= n):\n",
        "  x = int (input(\"Agregue un número telefónico: \"))\n",
        "  numero = numero + 1\n",
        "  lista.append(x)\n",
        "for i in lista:\n",
        "  print(f\"+{Cod}{i}\")"
      ],
      "execution_count": 63,
      "outputs": [
        {
          "output_type": "stream",
          "name": "stdout",
          "text": [
            "Digíte el código del país: 52\n",
            "¿Cuántos números telefónicos desea agregar?: 4\n",
            "Agregue un número telefónico: 5545325465\n",
            "Agregue un número telefónico: 5598764565\n",
            "Agregue un número telefónico: 5534652315\n",
            "Agregue un número telefónico: 5576879434\n",
            "+525545325465\n",
            "+525598764565\n",
            "+525534652315\n",
            "+525576879434\n"
          ]
        }
      ]
    }
  ]
}