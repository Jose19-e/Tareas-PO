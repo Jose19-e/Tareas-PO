{
  "nbformat": 4,
  "nbformat_minor": 0,
  "metadata": {
    "colab": {
      "name": "Listas_estructuradedatos_1358.ipynb",
      "provenance": [],
      "authorship_tag": "ABX9TyP511T9Ys15TJt7kNgouXXQ",
      "include_colab_link": true
    },
    "kernelspec": {
      "name": "python3",
      "display_name": "Python 3"
    },
    "language_info": {
      "name": "python"
    }
  },
  "cells": [
    {
      "cell_type": "markdown",
      "metadata": {
        "id": "view-in-github",
        "colab_type": "text"
      },
      "source": [
        "<a href=\"https://colab.research.google.com/github/Jose19-e/Tareas-PO/blob/master/Listas_estructuradedatos_1358.ipynb\" target=\"_parent\"><img src=\"https://colab.research.google.com/assets/colab-badge.svg\" alt=\"Open In Colab\"/></a>"
      ]
    },
    {
      "cell_type": "code",
      "metadata": {
        "id": "CJVsRR1OSBcN"
      },
      "source": [
        "class Nodo:\n",
        "  def __init__(self, value , siguiente = None):\n",
        "    self.data = value\n",
        "    self.next = siguiente"
      ],
      "execution_count": 4,
      "outputs": []
    },
    {
      "cell_type": "code",
      "metadata": {
        "colab": {
          "base_uri": "https://localhost:8080/"
        },
        "id": "twma9XFNVAQN",
        "outputId": "5802fe74-94b8-4cbb-c6ff-af71f9d96f03"
      },
      "source": [
        "head = Nodo(20)\n",
        "head.next = Nodo(15)\n",
        "\n",
        "print(head.data)\n",
        "print(head.next.data)\n",
        "\n",
        "print(\"Hacer lo mismo pero con el segundo método\")\n",
        "\n",
        "head = Nodo(20, Nodo(15))\n",
        "print(head.data)\n",
        "print(head.next.data)"
      ],
      "execution_count": 7,
      "outputs": [
        {
          "output_type": "stream",
          "name": "stdout",
          "text": [
            "20\n",
            "15\n",
            "Hacer lo mismo pero con el segundo método\n",
            "20\n",
            "15\n"
          ]
        }
      ]
    }
  ]
}