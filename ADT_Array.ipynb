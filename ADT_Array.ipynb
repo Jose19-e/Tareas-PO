{
  "nbformat": 4,
  "nbformat_minor": 0,
  "metadata": {
    "colab": {
      "name": "ADT Array.ipynb",
      "provenance": [],
      "authorship_tag": "ABX9TyPgJmmhyP5yUS/gMUWJ6gNc",
      "include_colab_link": true
    },
    "kernelspec": {
      "name": "python3",
      "display_name": "Python 3"
    },
    "language_info": {
      "name": "python"
    }
  },
  "cells": [
    {
      "cell_type": "markdown",
      "metadata": {
        "id": "view-in-github",
        "colab_type": "text"
      },
      "source": [
        "<a href=\"https://colab.research.google.com/github/Jose19-e/Tareas-PO/blob/master/ADT_Array.ipynb\" target=\"_parent\"><img src=\"https://colab.research.google.com/assets/colab-badge.svg\" alt=\"Open In Colab\"/></a>"
      ]
    },
    {
      "cell_type": "code",
      "metadata": {
        "id": "fxojGwRIJqp9"
      },
      "source": [
        "\"\"\"\n",
        "ADT Array\n",
        "\n",
        "\"\"\"\n",
        "class Array():\n",
        "  def __init__( self, tamano):\n",
        "    self.__tamano = tamano\n",
        "    self.__data = [0 for x in range(self.__tamano)]\n",
        "\n",
        "  def get_item( self, index):\n",
        "    return self.__data[index]\n",
        "\n",
        "  def to_string(self):\n",
        "    print(self.__data) \n",
        "\n",
        "  def set_item(self, indice, dato):\n",
        "    self.__dato = dato \n",
        "    self.__data.insert(indice,dato) \n",
        "\n",
        "  def get_Lenght(self):\n",
        "    return len(self.__data)  \n",
        "\n",
        "  def clear(self, dato):\n",
        "    self.__dato = dato\n",
        "    i = 0\n",
        "    x = len(self.__data) \n",
        "    del lista[0:]\n",
        "    while i < x:\n",
        "      self.__data.append(dato)\n",
        "      i += 1\n",
        "    return self.__data  \n",
        "    \n",
        "\n",
        "\n",
        "\n",
        "  "
      ],
      "execution_count": 34,
      "outputs": []
    },
    {
      "cell_type": "code",
      "metadata": {
        "colab": {
          "base_uri": "https://localhost:8080/"
        },
        "id": "2ISY35UiF-xG",
        "outputId": "90c0e4fb-a836-4a30-9e84-616b7e1d54c0"
      },
      "source": [
        "ejemplo = Array(5)\n",
        "ejemplo.to_string()\n",
        "ejemplo.get_item(3)\n",
        "ejemplo.set_item(4,5)\n",
        "ejemplo.to_string()\n",
        "ejemplo.get_Lenght()\n",
        "ejemplo.clear(2)"
      ],
      "execution_count": 35,
      "outputs": [
        {
          "output_type": "stream",
          "name": "stdout",
          "text": [
            "[0, 0, 0, 0, 0]\n",
            "[0, 0, 0, 0, 5, 0]\n"
          ]
        },
        {
          "output_type": "execute_result",
          "data": {
            "text/plain": [
              "[0, 0, 0, 0, 5, 0, 2, 2, 2, 2, 2, 2]"
            ]
          },
          "metadata": {},
          "execution_count": 35
        }
      ]
    }
  ]
}