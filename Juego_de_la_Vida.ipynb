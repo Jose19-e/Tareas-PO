{
  "nbformat": 4,
  "nbformat_minor": 0,
  "metadata": {
    "colab": {
      "name": "Juego de la Vida",
      "provenance": [],
      "collapsed_sections": [],
      "authorship_tag": "ABX9TyNHg3ZU2+riSyYi9v4PRcwb",
      "include_colab_link": true
    },
    "kernelspec": {
      "display_name": "Python 3",
      "name": "python3"
    },
    "language_info": {
      "name": "python"
    }
  },
  "cells": [
    {
      "cell_type": "markdown",
      "metadata": {
        "id": "view-in-github",
        "colab_type": "text"
      },
      "source": [
        "<a href=\"https://colab.research.google.com/github/Jose19-e/Tareas-PO/blob/master/Juego_de_la_Vida.ipynb\" target=\"_parent\"><img src=\"https://colab.research.google.com/assets/colab-badge.svg\" alt=\"Open In Colab\"/></a>"
      ]
    },
    {
      "cell_type": "code",
      "metadata": {
        "colab": {
          "base_uri": "https://localhost:8080/"
        },
        "id": "hlnsnl4JZJjL",
        "outputId": "a0092765-6e21-437f-8542-21f3ea71b601"
      },
      "source": [
        "!pip install simple_chalk "
      ],
      "execution_count": 214,
      "outputs": [
        {
          "output_type": "stream",
          "name": "stdout",
          "text": [
            "Requirement already satisfied: simple_chalk in /usr/local/lib/python3.7/dist-packages (0.1.0)\n"
          ]
        }
      ]
    },
    {
      "cell_type": "code",
      "metadata": {
        "id": "WOPssdh781kh",
        "colab": {
          "base_uri": "https://localhost:8080/",
          "height": 140
        },
        "outputId": "941068cf-1ed7-4fac-a862-de7e7dc398d9"
      },
      "source": [
        "class Array2D():\n",
        "  def __init__(self, ren, col):\n",
        "    self.__renglones = ren\n",
        "    self.__columnas = col\n",
        "    self.__data = [[0 for x in range (col)]for x in range (ren) ]\n",
        "\n",
        "  def to_string(self): \n",
        "    for i in range (self.__renglones):\n",
        "      print(self.__data[i])\n",
        "\n",
        "  def Clear(self,dato):\n",
        "    for i in range(self.__renglones):\n",
        "      for j in range(self.__columnas):\n",
        "        self.__data[i][j] = dato\n",
        "\n",
        "  def get_row_size(self):\n",
        "    return (self.__renglones)\n",
        "\n",
        "  def get_col_size(self):\n",
        "    return (self.__columnas)\n",
        "\n",
        "  def set_item(self,ren,col,dato):\n",
        "    self.__data[ren][col] = dato\n",
        "\n",
        "  def get_item(self,ren,col):\n",
        "    return self.__data[ren][col]\n",
        "\n",
        "tablero = Array2D(6,5)\n",
        "tablero.to_string()\n",
        "tablero.Clear(\"M\")\n",
        "tablero.get_row_size()\n",
        "tablero.get_item(1,1)\n"
      ],
      "execution_count": 215,
      "outputs": [
        {
          "output_type": "stream",
          "name": "stdout",
          "text": [
            "[0, 0, 0, 0, 0]\n",
            "[0, 0, 0, 0, 0]\n",
            "[0, 0, 0, 0, 0]\n",
            "[0, 0, 0, 0, 0]\n",
            "[0, 0, 0, 0, 0]\n",
            "[0, 0, 0, 0, 0]\n"
          ]
        },
        {
          "output_type": "execute_result",
          "data": {
            "application/vnd.google.colaboratory.intrinsic+json": {
              "type": "string"
            },
            "text/plain": [
              "'M'"
            ]
          },
          "metadata": {},
          "execution_count": 215
        }
      ]
    },
    {
      "cell_type": "code",
      "metadata": {
        "id": "4J3IJIH8z_0e"
      },
      "source": [
        "from simple_chalk import chalk , red\n",
        "class JuegoDeLaVidaADT:\n",
        "  def __init__(self,rens,cols,lista_pob_inicial,generaciones):\n",
        "    self.copytablero = Array2D(rens,cols)\n",
        "    self.tablero = Array2D(rens,cols)\n",
        "    self.renglones = rens\n",
        "    self.columnas = cols\n",
        "    self.generaciones = generaciones\n",
        "    self.gen = 1\n",
        "    self.tablero.Clear(\"M\")\n",
        "    for par in lista_pob_inicial:\n",
        "      self.tablero.set_item(par[0], par[1], 'V')\n",
        "\n",
        "  def to_string(self):   \n",
        "    self.tablero.to_string()\n",
        "\n",
        "  def get_vecinos(self,r,c):\n",
        "    vecinos = []\n",
        "    for ren in range(r-1, r+2,1):\n",
        "      for col in range(c-1 , c+2,1):\n",
        "         if ren < 0 or ren >= self.tablero.get_row_size() or col < 0 or col >= self.tablero.get_col_size() or (ren==r and col==c):\n",
        "           pass\n",
        "         else:\n",
        "           vecinos.append((ren,col))  \n",
        "    return vecinos       \n",
        "\n",
        "  def get_vecinos_vivos(self, r, c):\n",
        "    vivos = 0\n",
        "    vecinos = self.get_vecinos(r,c)\n",
        "    for par in vecinos:\n",
        "      if self.tablero.get_item(par[0],par[1]) == 'V':\n",
        "        vivos += 1\n",
        "    return vivos \n",
        "\n",
        "  def clonar_Grid(self,copytablero):\n",
        "    grid = []\n",
        "    for ren in range(self.renglones):\n",
        "      for col in range(self.columnas):\n",
        "        grid.append((ren,col))\n",
        "    for par in grid:        \n",
        "      if self.copytablero.get_item(par[0],par[1]) == \"V\":\n",
        "        self.tablero.set_item(par[0],par[1],\"V\")\n",
        "      if self.copytablero.get_item(par[0],par[1]) == \"M\":  \n",
        "        self.tablero.set_item(par[0],par[1],\"M\")\n",
        "    \n",
        "  def aplicar_reglas(self):\n",
        "    self.copytablero.Clear(\"M\")\n",
        "    grid = []\n",
        "    for ren in range(self.renglones):\n",
        "      for col in range(self.columnas):\n",
        "        grid.append((ren,col))\n",
        "     \n",
        "    for i in range(self.generaciones):\n",
        "      print(f\"-------GENERACION {i+1}--------\")\n",
        "      for par in grid:\n",
        "        if self.tablero.get_item(par[0],par[1]) == \"V\":\n",
        "          if self.get_vecinos_vivos(par[0],par[1]) == 2 or self.get_vecinos_vivos(par[0],par[1]) == 3:\n",
        "            self.copytablero.set_item(par[0],par[1],\"V\")\n",
        "          \n",
        "\n",
        "        if self.tablero.get_item(par[0],par[1]) == \"V\":\n",
        "          if self.get_vecinos_vivos(par[0],par[1]) == 1 or self.get_vecinos_vivos(par[0],par[1]) == 0:\n",
        "            self.copytablero.set_item(par[0], par[1],\"M\")\n",
        "\n",
        "        if self.tablero.get_item(par[0],par[1]) == \"V\":\n",
        "          if self.get_vecinos_vivos(par[0],par[1]) >= 4:\n",
        "            self.copytablero.set_item(par[0], par[1],\"M\")  \n",
        "\n",
        "        if self.tablero.get_item(par[0],par[1]) == \"M\":\n",
        "          if self.get_vecinos_vivos(par[0],par[1]) == 3:\n",
        "            self.copytablero.set_item(par[0], par[1],\"V\") \n",
        "      \n",
        "      self.clonar_Grid(self.copytablero)\n",
        "      juego.to_string()\n",
        "      print(\"-------------------------\") \n",
        "     \n",
        "\n",
        "      \n",
        "      \n",
        "      \n",
        "\n",
        "        \n",
        "\n",
        "\n",
        "  \n",
        "\n"
      ],
      "execution_count": 216,
      "outputs": []
    },
    {
      "cell_type": "code",
      "metadata": {
        "colab": {
          "base_uri": "https://localhost:8080/"
        },
        "id": "D_QGp2ydECF6",
        "outputId": "06603c62-8a0b-4a44-8bda-4b50b3101869"
      },
      "source": [
        "print(\" NO SUPE CÓMO USAR CHALK :( \")\n",
        "juego = JuegoDeLaVidaADT(6,5,[(2,2),(3,1),(3,2),(3,3)],8)\n",
        "juego.to_string()\n",
        "print(\"Vecinos de 2,3\")\n",
        "print(juego.get_vecinos(2,3))\n",
        "r = 2\n",
        "c = 2\n",
        "print(juego.get_vecinos_vivos(r,c))\n",
        "juego.aplicar_reglas()\n",
        "\n",
        "\n",
        "\n",
        "\n"
      ],
      "execution_count": 217,
      "outputs": [
        {
          "output_type": "stream",
          "name": "stdout",
          "text": [
            " NO SUPE CÓMO USAR CHALK :( \n",
            "['M', 'M', 'M', 'M', 'M']\n",
            "['M', 'M', 'M', 'M', 'M']\n",
            "['M', 'M', 'V', 'M', 'M']\n",
            "['M', 'V', 'V', 'V', 'M']\n",
            "['M', 'M', 'M', 'M', 'M']\n",
            "['M', 'M', 'M', 'M', 'M']\n",
            "Vecinos de 2,3\n",
            "[(1, 2), (1, 3), (1, 4), (2, 2), (2, 4), (3, 2), (3, 3), (3, 4)]\n",
            "3\n",
            "-------GENERACION 1--------\n",
            "['M', 'M', 'M', 'M', 'M']\n",
            "['M', 'M', 'M', 'M', 'M']\n",
            "['M', 'V', 'V', 'V', 'M']\n",
            "['M', 'V', 'V', 'V', 'M']\n",
            "['M', 'M', 'V', 'M', 'M']\n",
            "['M', 'M', 'M', 'M', 'M']\n",
            "-------------------------\n",
            "-------GENERACION 2--------\n",
            "['M', 'M', 'M', 'M', 'M']\n",
            "['M', 'M', 'V', 'M', 'M']\n",
            "['M', 'V', 'M', 'V', 'M']\n",
            "['M', 'M', 'M', 'M', 'M']\n",
            "['M', 'V', 'V', 'V', 'M']\n",
            "['M', 'M', 'M', 'M', 'M']\n",
            "-------------------------\n",
            "-------GENERACION 3--------\n",
            "['M', 'M', 'M', 'M', 'M']\n",
            "['M', 'M', 'V', 'M', 'M']\n",
            "['M', 'M', 'V', 'M', 'M']\n",
            "['M', 'V', 'M', 'V', 'M']\n",
            "['M', 'M', 'V', 'M', 'M']\n",
            "['M', 'M', 'V', 'M', 'M']\n",
            "-------------------------\n",
            "-------GENERACION 4--------\n",
            "['M', 'M', 'M', 'M', 'M']\n",
            "['M', 'M', 'M', 'M', 'M']\n",
            "['M', 'V', 'V', 'V', 'M']\n",
            "['M', 'V', 'M', 'V', 'M']\n",
            "['M', 'V', 'V', 'V', 'M']\n",
            "['M', 'M', 'M', 'M', 'M']\n",
            "-------------------------\n",
            "-------GENERACION 5--------\n",
            "['M', 'M', 'M', 'M', 'M']\n",
            "['M', 'M', 'V', 'M', 'M']\n",
            "['M', 'V', 'M', 'V', 'M']\n",
            "['V', 'M', 'M', 'M', 'V']\n",
            "['M', 'V', 'M', 'V', 'M']\n",
            "['M', 'M', 'V', 'M', 'M']\n",
            "-------------------------\n",
            "-------GENERACION 6--------\n",
            "['M', 'M', 'M', 'M', 'M']\n",
            "['M', 'M', 'V', 'M', 'M']\n",
            "['M', 'V', 'V', 'V', 'M']\n",
            "['V', 'V', 'M', 'V', 'V']\n",
            "['M', 'V', 'V', 'V', 'M']\n",
            "['M', 'M', 'V', 'M', 'M']\n",
            "-------------------------\n",
            "-------GENERACION 7--------\n",
            "['M', 'M', 'M', 'M', 'M']\n",
            "['M', 'V', 'V', 'V', 'M']\n",
            "['V', 'M', 'M', 'M', 'V']\n",
            "['V', 'M', 'M', 'M', 'V']\n",
            "['V', 'M', 'M', 'M', 'V']\n",
            "['M', 'V', 'V', 'V', 'M']\n",
            "-------------------------\n",
            "-------GENERACION 8--------\n",
            "['M', 'M', 'V', 'M', 'M']\n",
            "['M', 'V', 'V', 'V', 'M']\n",
            "['V', 'M', 'V', 'M', 'V']\n",
            "['V', 'V', 'M', 'V', 'V']\n",
            "['V', 'M', 'V', 'M', 'V']\n",
            "['M', 'V', 'V', 'V', 'M']\n",
            "-------------------------\n"
          ]
        }
      ]
    }
  ]
}