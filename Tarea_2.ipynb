{
  "nbformat": 4,
  "nbformat_minor": 0,
  "metadata": {
    "colab": {
      "name": "Tarea 2",
      "provenance": [],
      "authorship_tag": "ABX9TyMMsXrCd2u8//+oifC6EjZV",
      "include_colab_link": true
    },
    "kernelspec": {
      "name": "python3",
      "display_name": "Python 3"
    },
    "language_info": {
      "name": "python"
    }
  },
  "cells": [
    {
      "cell_type": "markdown",
      "metadata": {
        "id": "view-in-github",
        "colab_type": "text"
      },
      "source": [
        "<a href=\"https://colab.research.google.com/github/Jose19-e/Tareas-PO/blob/master/Tarea_2.ipynb\" target=\"_parent\"><img src=\"https://colab.research.google.com/assets/colab-badge.svg\" alt=\"Open In Colab\"/></a>"
      ]
    },
    {
      "cell_type": "code",
      "metadata": {
        "colab": {
          "base_uri": "https://localhost:8080/"
        },
        "id": "ST-o6gzsV9DT",
        "outputId": "5ace1a38-6402-4fa3-e858-ad0c4c513f38"
      },
      "source": [
        "# Crear una lista de enteros en Python y realizar la suma con recursividad, el\n",
        "# caso base es cuando la lista esté vacía.\n",
        "lista = []\n",
        "\n",
        "def suma(lista):\n",
        "  if len(lista) == 1:\n",
        "    return lista[0]\n",
        "  else:\n",
        "    return lista[0] + suma(lista[1:])\n",
        "\n",
        "n = (int(input(\"digíte la cantidad de números a sumar de la lista: \")))\n",
        "i = 0\n",
        "while i < n:\n",
        "  numero = int(input(\"Digíte un número\"))\n",
        "  lista.append(numero)\n",
        "  i += 1\n",
        "print(lista)\n",
        "print(suma(lista))\n",
        "\n",
        "\n",
        "\n"
      ],
      "execution_count": 11,
      "outputs": [
        {
          "output_type": "stream",
          "name": "stdout",
          "text": [
            "digíte la cantidad de números a sumar de la lista: 10\n",
            "Digíte un número1\n",
            "Digíte un número2\n",
            "Digíte un número3\n",
            "Digíte un número4\n",
            "Digíte un número5\n",
            "Digíte un número6\n",
            "Digíte un número7\n",
            "Digíte un número8\n",
            "Digíte un número9\n",
            "Digíte un número10\n",
            "[1, 2, 3, 4, 5, 6, 7, 8, 9, 10]\n",
            "55\n"
          ]
        }
      ]
    },
    {
      "cell_type": "code",
      "metadata": {
        "colab": {
          "base_uri": "https://localhost:8080/"
        },
        "id": "furbPw1aZ8rL",
        "outputId": "4ef1465e-6bbc-4ca6-9819-6044d85da2cb"
      },
      "source": [
        "# Hacer un contador regresivo con recursión y cuando termine ( conteo llega a cero) que imprima la palabra BOOMMMMM !!!.\n",
        "\n",
        "def contador(n):\n",
        "  if n == 0:\n",
        "    print(\"BOOMMMMM\") \n",
        "  else:\n",
        "    print(n)\n",
        "    n = contador(n - 1)    \n",
        "n = 10    \n",
        "contador(n)"
      ],
      "execution_count": 20,
      "outputs": [
        {
          "output_type": "stream",
          "name": "stdout",
          "text": [
            "10\n",
            "9\n",
            "8\n",
            "7\n",
            "6\n",
            "5\n",
            "4\n",
            "3\n",
            "2\n",
            "1\n",
            "BOOMMMMM\n"
          ]
        }
      ]
    },
    {
      "cell_type": "code",
      "metadata": {
        "colab": {
          "base_uri": "https://localhost:8080/"
        },
        "id": "3xXAILPchV_n",
        "outputId": "50558873-fd5c-4f1f-d52c-1e6ab3cd7fa6"
      },
      "source": [
        "'''\n",
        "Eliminar de una lista o arreglo, el elemento que está en la posición media. Si\n",
        "la dimensión del arreglo es par, sacar el elemento previo al punto medio.\n",
        "'''\n",
        "def posi(lista):\n",
        "  if len(lista) == x:\n",
        "    return list\n",
        "  else:\n",
        "    del lista[0]\n",
        "    return posi(lista)\n",
        "\n",
        "lista = []\n",
        "e = int (input(\"Digíte la cantidad de numeros en la lista: \"))\n",
        "i = 0\n",
        "while i < e:\n",
        "  numero = int (input(\"Digíte un número - \"))\n",
        "  lista.append(numero)\n",
        "  i = i + 1\n",
        "print(lista)\n",
        "lista2 = list(lista)\n",
        "p = int (len(lista))\n",
        "r = int ((p/2))   \n",
        "x = int (round(r,0)) \n",
        "\n",
        "posi(lista) \n",
        "if p % 2 == 0:\n",
        "  del lista2[x-1]\n",
        "else:\n",
        "  del lista2[x]\n",
        "\n",
        "print(lista2)  \n",
        "\n",
        "\n",
        "\n"
      ],
      "execution_count": 164,
      "outputs": [
        {
          "output_type": "stream",
          "name": "stdout",
          "text": [
            "Digíte la cantidad de numeros en la lista: 5\n",
            "Digíte un número - 1\n",
            "Digíte un número - 2\n",
            "Digíte un número - 3\n",
            "Digíte un número - 4\n",
            "Digíte un número - 5\n",
            "[1, 2, 3, 4, 5]\n",
            "[1, 2, 4, 5]\n"
          ]
        }
      ]
    }
  ]
}