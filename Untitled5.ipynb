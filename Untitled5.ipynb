{
  "nbformat": 4,
  "nbformat_minor": 0,
  "metadata": {
    "colab": {
      "name": "Untitled5.ipynb",
      "provenance": [],
      "collapsed_sections": [],
      "authorship_tag": "ABX9TyNsUxcVMy+VrmeN74XCN9zY",
      "include_colab_link": true
    },
    "kernelspec": {
      "name": "python3",
      "display_name": "Python 3"
    },
    "language_info": {
      "name": "python"
    }
  },
  "cells": [
    {
      "cell_type": "markdown",
      "metadata": {
        "id": "view-in-github",
        "colab_type": "text"
      },
      "source": [
        "<a href=\"https://colab.research.google.com/github/Jose19-e/Tareas-PO/blob/master/Untitled5.ipynb\" target=\"_parent\"><img src=\"https://colab.research.google.com/assets/colab-badge.svg\" alt=\"Open In Colab\"/></a>"
      ]
    },
    {
      "cell_type": "code",
      "metadata": {
        "colab": {
          "base_uri": "https://localhost:8080/"
        },
        "id": "9VAP3V9oRdOu",
        "outputId": "e7ce5602-50e2-4fda-ce43-df1fa5b23539"
      },
      "source": [
        "print(\"Conteo de puntos\")\n",
        "Jugador1 = 0\n",
        "Jugador2 = 0\n",
        "Contador = 0\n",
        "while Contador <= 45:\n",
        "  x = int (input(\"¿quién anotó?\"))\n",
        "  if x == 1:\n",
        "    Jugador1 = Jugador1 + 15 \n",
        "    if x == 30: \n",
        "      \n",
        "  print(f\"Jugador 1 lleva: {Judador1}\")\n",
        "  if x == 2:\n",
        "    Jugador2 = Jugador2 + 15 \n",
        "  print(f\"Jugador 1 lleva: {Judador2}\")\n",
        "\n",
        "\n",
        "\n"
      ],
      "execution_count": null,
      "outputs": [
        {
          "output_type": "stream",
          "name": "stdout",
          "text": [
            "Conteo de puntos\n"
          ]
        }
      ]
    }
  ]
}